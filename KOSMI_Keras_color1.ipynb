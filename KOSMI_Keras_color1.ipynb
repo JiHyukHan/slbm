{
  "nbformat": 4,
  "nbformat_minor": 0,
  "metadata": {
    "colab": {
      "name": "KOSMI_Keras_color.ipynb",
      "version": "0.3.2",
      "provenance": [],
      "collapsed_sections": []
    },
    "kernelspec": {
      "name": "python3",
      "display_name": "Python 3"
    },
    "accelerator": "GPU"
  },
  "cells": [
    {
      "metadata": {
        "id": "cK23lk97bmxe",
        "colab_type": "text"
      },
      "cell_type": "markdown",
      "source": [
        "# KOSMI 예제를 Keras 로 바꿔보기 "
      ]
    },
    {
      "metadata": {
        "id": "ke1bAghPdS12",
        "colab_type": "text"
      },
      "cell_type": "markdown",
      "source": [
        "google drive mount "
      ]
    },
    {
      "metadata": {
        "id": "P8nf7ODYdHHq",
        "colab_type": "code",
        "outputId": "0b26e4d0-ce83-480c-abf3-657579a885dd",
        "colab": {
          "base_uri": "https://localhost:8080/",
          "height": 118
        }
      },
      "cell_type": "code",
      "source": [
        "from google.colab import auth\n",
        "auth.authenticate_user()\n",
        "\n",
        "from google.colab import drive\n",
        "drive.mount('/content/gdrive')"
      ],
      "execution_count": 2,
      "outputs": [
        {
          "output_type": "stream",
          "text": [
            "Go to this URL in a browser: https://accounts.google.com/o/oauth2/auth?client_id=947318989803-6bn6qk8qdgf4n4g3pfee6491hc0brc4i.apps.googleusercontent.com&redirect_uri=urn%3Aietf%3Awg%3Aoauth%3A2.0%3Aoob&scope=email%20https%3A%2F%2Fwww.googleapis.com%2Fauth%2Fdocs.test%20https%3A%2F%2Fwww.googleapis.com%2Fauth%2Fdrive%20https%3A%2F%2Fwww.googleapis.com%2Fauth%2Fdrive.photos.readonly%20https%3A%2F%2Fwww.googleapis.com%2Fauth%2Fpeopleapi.readonly&response_type=code\n",
            "\n",
            "Enter your authorization code:\n",
            "··········\n",
            "Mounted at /content/gdrive\n"
          ],
          "name": "stdout"
        }
      ]
    },
    {
      "metadata": {
        "id": "9w-WwkJwYAFp",
        "colab_type": "code",
        "outputId": "2b8f6696-33c7-4225-f1a1-67e9ec1b3485",
        "colab": {
          "base_uri": "https://localhost:8080/",
          "height": 33
        }
      },
      "cell_type": "code",
      "source": [
        "ls gdrive/My\\ Drive"
      ],
      "execution_count": 30,
      "outputs": [
        {
          "output_type": "stream",
          "text": [
            "\u001b[0m\u001b[01;34m'Colab Notebooks'\u001b[0m/   \u001b[01;34mdataset\u001b[0m/   foo.txt   \u001b[01;34mKeras\u001b[0m/\n"
          ],
          "name": "stdout"
        }
      ]
    },
    {
      "metadata": {
        "id": "5GFVgzJEau_i",
        "colab_type": "code",
        "colab": {}
      },
      "cell_type": "code",
      "source": [
        "import PIL \n",
        "from PIL import Image\n",
        "import matplotlib.pyplot as plt\n",
        "\n",
        "import numpy as np\n",
        "from keras.models import Sequential\n",
        "from keras.layers import Dense, Activation, Conv2D, MaxPooling2D, Flatten, Dropout\n",
        "from keras.preprocessing.image import ImageDataGenerator\n"
      ],
      "execution_count": 0,
      "outputs": []
    },
    {
      "metadata": {
        "id": "qifEtL53eLHn",
        "colab_type": "code",
        "outputId": "061b0cb0-95a7-4d67-a04a-88162e0d77b6",
        "colab": {
          "base_uri": "https://localhost:8080/",
          "height": 50
        }
      },
      "cell_type": "code",
      "source": [
        "# 랜덤시드 고정시키기\n",
        "np.random.seed(333)\n",
        "\n",
        "# 데이터셋 생성하기 \n",
        "  # train 데이터 부풀리기 \n",
        "train_datagen = ImageDataGenerator(rescale=1./255, \n",
        "                                   rotation_range=90,\n",
        "                                   width_shift_range=0.1,\n",
        "                                   height_shift_range=0.1,\n",
        "                                   shear_range=0.2,\n",
        "                                   zoom_range=[0.9, 1.1],\n",
        "                                   horizontal_flip=True,\n",
        "                                   vertical_flip=True,\n",
        "                                   fill_mode='nearest')\n",
        "\n",
        "train_generator = train_datagen.flow_from_directory(\n",
        "        'gdrive/My Drive/dataset/KOSMI_tutorial/retinopathy_dataset_resize/train',\n",
        "        target_size=(128, 128),\n",
        "        batch_size=64,\n",
        "        class_mode='binary') \n",
        "\n",
        "test_datagen = ImageDataGenerator(rescale=1./255)\n",
        "\n",
        "test_generator = test_datagen.flow_from_directory(\n",
        "        'gdrive/My Drive/dataset/KOSMI_tutorial/retinopathy_dataset_resize/test',\n",
        "        target_size=(128, 128),    \n",
        "        batch_size=64,\n",
        "        class_mode='binary')"
      ],
      "execution_count": 32,
      "outputs": [
        {
          "output_type": "stream",
          "text": [
            "Found 1230 images belonging to 2 classes.\n",
            "Found 292 images belonging to 2 classes.\n"
          ],
          "name": "stdout"
        }
      ]
    },
    {
      "metadata": {
        "colab_type": "code",
        "id": "cquvwxLp2dz0",
        "colab": {}
      },
      "cell_type": "code",
      "source": [
        "# 모델 구성 \n",
        "model = Sequential()\n",
        "model.add(Conv2D(16, (3, 3), padding='same', activation='relu', input_shape=(128, 128, 3)))\n",
        "model.add(MaxPooling2D(pool_size=(2, 2)))\n",
        "model.add(Conv2D(32, (3, 3), padding='same', activation='relu'))\n",
        "model.add(MaxPooling2D(pool_size=(2, 2)))\n",
        "model.add(Conv2D(64, (3, 3), padding='same', activation='relu'))\n",
        "model.add(MaxPooling2D(pool_size=(2, 2)))\n",
        "model.add(Conv2D(128, (3, 3), padding='same', activation='relu'))\n",
        "model.add(MaxPooling2D(pool_size=(2, 2)))\n",
        "model.add(Conv2D(128, (3, 3), padding='same', activation='relu'))\n",
        "model.add(MaxPooling2D(pool_size=(2, 2)))\n",
        "\n",
        "model.add(Flatten())\n",
        "model.add(Dense(1024, activation='relu'))\n",
        "model.add(Dense(1, activation='sigmoid')) # 0, 1 의 이진분류 "
      ],
      "execution_count": 0,
      "outputs": []
    },
    {
      "metadata": {
        "id": "dJPilvcXT5o7",
        "colab_type": "code",
        "outputId": "93d44959-b7ce-49e2-85cd-65eaba64c408",
        "colab": {
          "base_uri": "https://localhost:8080/",
          "height": 1520
        }
      },
      "cell_type": "code",
      "source": [
        "# 모델 시각화 \n",
        "from IPython.display import SVG\n",
        "from keras.utils.vis_utils import model_to_dot\n",
        "\n",
        "%matplotlib inline\n",
        "\n",
        "SVG(model_to_dot(model, show_shapes=True).create(prog='dot', format='svg'))"
      ],
      "execution_count": 63,
      "outputs": [
        {
          "output_type": "execute_result",
          "data": {
            "text/plain": [
              "<IPython.core.display.SVG object>"
            ],
            "image/svg+xml": "<svg height=\"1124pt\" viewBox=\"0.00 0.00 435.00 1124.00\" width=\"435pt\" xmlns=\"http://www.w3.org/2000/svg\" xmlns:xlink=\"http://www.w3.org/1999/xlink\">\n<g class=\"graph\" id=\"graph0\" transform=\"scale(1 1) rotate(0) translate(4 1120)\">\n<title>G</title>\n<polygon fill=\"#ffffff\" points=\"-4,4 -4,-1120 431,-1120 431,4 -4,4\" stroke=\"transparent\"/>\n<!-- 140421830313408 -->\n<g class=\"node\" id=\"node1\">\n<title>140421830313408</title>\n<polygon fill=\"none\" points=\"44.5,-996.5 44.5,-1042.5 382.5,-1042.5 382.5,-996.5 44.5,-996.5\" stroke=\"#000000\"/>\n<text fill=\"#000000\" font-family=\"Times,serif\" font-size=\"14.00\" text-anchor=\"middle\" x=\"114.5\" y=\"-1015.8\">conv2d_34: Conv2D</text>\n<polyline fill=\"none\" points=\"184.5,-996.5 184.5,-1042.5 \" stroke=\"#000000\"/>\n<text fill=\"#000000\" font-family=\"Times,serif\" font-size=\"14.00\" text-anchor=\"middle\" x=\"213.5\" y=\"-1027.3\">input:</text>\n<polyline fill=\"none\" points=\"184.5,-1019.5 242.5,-1019.5 \" stroke=\"#000000\"/>\n<text fill=\"#000000\" font-family=\"Times,serif\" font-size=\"14.00\" text-anchor=\"middle\" x=\"213.5\" y=\"-1004.3\">output:</text>\n<polyline fill=\"none\" points=\"242.5,-996.5 242.5,-1042.5 \" stroke=\"#000000\"/>\n<text fill=\"#000000\" font-family=\"Times,serif\" font-size=\"14.00\" text-anchor=\"middle\" x=\"312.5\" y=\"-1027.3\">(None, 128, 128, 3)</text>\n<polyline fill=\"none\" points=\"242.5,-1019.5 382.5,-1019.5 \" stroke=\"#000000\"/>\n<text fill=\"#000000\" font-family=\"Times,serif\" font-size=\"14.00\" text-anchor=\"middle\" x=\"312.5\" y=\"-1004.3\">(None, 128, 128, 16)</text>\n</g>\n<!-- 140421830261168 -->\n<g class=\"node\" id=\"node2\">\n<title>140421830261168</title>\n<polygon fill=\"none\" points=\"0,-913.5 0,-959.5 427,-959.5 427,-913.5 0,-913.5\" stroke=\"#000000\"/>\n<text fill=\"#000000\" font-family=\"Times,serif\" font-size=\"14.00\" text-anchor=\"middle\" x=\"114.5\" y=\"-932.8\">max_pooling2d_34: MaxPooling2D</text>\n<polyline fill=\"none\" points=\"229,-913.5 229,-959.5 \" stroke=\"#000000\"/>\n<text fill=\"#000000\" font-family=\"Times,serif\" font-size=\"14.00\" text-anchor=\"middle\" x=\"258\" y=\"-944.3\">input:</text>\n<polyline fill=\"none\" points=\"229,-936.5 287,-936.5 \" stroke=\"#000000\"/>\n<text fill=\"#000000\" font-family=\"Times,serif\" font-size=\"14.00\" text-anchor=\"middle\" x=\"258\" y=\"-921.3\">output:</text>\n<polyline fill=\"none\" points=\"287,-913.5 287,-959.5 \" stroke=\"#000000\"/>\n<text fill=\"#000000\" font-family=\"Times,serif\" font-size=\"14.00\" text-anchor=\"middle\" x=\"357\" y=\"-944.3\">(None, 128, 128, 16)</text>\n<polyline fill=\"none\" points=\"287,-936.5 427,-936.5 \" stroke=\"#000000\"/>\n<text fill=\"#000000\" font-family=\"Times,serif\" font-size=\"14.00\" text-anchor=\"middle\" x=\"357\" y=\"-921.3\">(None, 64, 64, 16)</text>\n</g>\n<!-- 140421830313408&#45;&gt;140421830261168 -->\n<g class=\"edge\" id=\"edge2\">\n<title>140421830313408-&gt;140421830261168</title>\n<path d=\"M213.5,-996.3799C213.5,-988.1745 213.5,-978.7679 213.5,-969.8786\" fill=\"none\" stroke=\"#000000\"/>\n<polygon fill=\"#000000\" points=\"217.0001,-969.784 213.5,-959.784 210.0001,-969.784 217.0001,-969.784\" stroke=\"#000000\"/>\n</g>\n<!-- 140421829875920 -->\n<g class=\"node\" id=\"node3\">\n<title>140421829875920</title>\n<polygon fill=\"none\" points=\"52,-830.5 52,-876.5 375,-876.5 375,-830.5 52,-830.5\" stroke=\"#000000\"/>\n<text fill=\"#000000\" font-family=\"Times,serif\" font-size=\"14.00\" text-anchor=\"middle\" x=\"122\" y=\"-849.8\">conv2d_35: Conv2D</text>\n<polyline fill=\"none\" points=\"192,-830.5 192,-876.5 \" stroke=\"#000000\"/>\n<text fill=\"#000000\" font-family=\"Times,serif\" font-size=\"14.00\" text-anchor=\"middle\" x=\"221\" y=\"-861.3\">input:</text>\n<polyline fill=\"none\" points=\"192,-853.5 250,-853.5 \" stroke=\"#000000\"/>\n<text fill=\"#000000\" font-family=\"Times,serif\" font-size=\"14.00\" text-anchor=\"middle\" x=\"221\" y=\"-838.3\">output:</text>\n<polyline fill=\"none\" points=\"250,-830.5 250,-876.5 \" stroke=\"#000000\"/>\n<text fill=\"#000000\" font-family=\"Times,serif\" font-size=\"14.00\" text-anchor=\"middle\" x=\"312.5\" y=\"-861.3\">(None, 64, 64, 16)</text>\n<polyline fill=\"none\" points=\"250,-853.5 375,-853.5 \" stroke=\"#000000\"/>\n<text fill=\"#000000\" font-family=\"Times,serif\" font-size=\"14.00\" text-anchor=\"middle\" x=\"312.5\" y=\"-838.3\">(None, 64, 64, 32)</text>\n</g>\n<!-- 140421830261168&#45;&gt;140421829875920 -->\n<g class=\"edge\" id=\"edge3\">\n<title>140421830261168-&gt;140421829875920</title>\n<path d=\"M213.5,-913.3799C213.5,-905.1745 213.5,-895.7679 213.5,-886.8786\" fill=\"none\" stroke=\"#000000\"/>\n<polygon fill=\"#000000\" points=\"217.0001,-886.784 213.5,-876.784 210.0001,-886.784 217.0001,-886.784\" stroke=\"#000000\"/>\n</g>\n<!-- 140421871513328 -->\n<g class=\"node\" id=\"node4\">\n<title>140421871513328</title>\n<polygon fill=\"none\" points=\"7.5,-747.5 7.5,-793.5 419.5,-793.5 419.5,-747.5 7.5,-747.5\" stroke=\"#000000\"/>\n<text fill=\"#000000\" font-family=\"Times,serif\" font-size=\"14.00\" text-anchor=\"middle\" x=\"122\" y=\"-766.8\">max_pooling2d_35: MaxPooling2D</text>\n<polyline fill=\"none\" points=\"236.5,-747.5 236.5,-793.5 \" stroke=\"#000000\"/>\n<text fill=\"#000000\" font-family=\"Times,serif\" font-size=\"14.00\" text-anchor=\"middle\" x=\"265.5\" y=\"-778.3\">input:</text>\n<polyline fill=\"none\" points=\"236.5,-770.5 294.5,-770.5 \" stroke=\"#000000\"/>\n<text fill=\"#000000\" font-family=\"Times,serif\" font-size=\"14.00\" text-anchor=\"middle\" x=\"265.5\" y=\"-755.3\">output:</text>\n<polyline fill=\"none\" points=\"294.5,-747.5 294.5,-793.5 \" stroke=\"#000000\"/>\n<text fill=\"#000000\" font-family=\"Times,serif\" font-size=\"14.00\" text-anchor=\"middle\" x=\"357\" y=\"-778.3\">(None, 64, 64, 32)</text>\n<polyline fill=\"none\" points=\"294.5,-770.5 419.5,-770.5 \" stroke=\"#000000\"/>\n<text fill=\"#000000\" font-family=\"Times,serif\" font-size=\"14.00\" text-anchor=\"middle\" x=\"357\" y=\"-755.3\">(None, 32, 32, 32)</text>\n</g>\n<!-- 140421829875920&#45;&gt;140421871513328 -->\n<g class=\"edge\" id=\"edge4\">\n<title>140421829875920-&gt;140421871513328</title>\n<path d=\"M213.5,-830.3799C213.5,-822.1745 213.5,-812.7679 213.5,-803.8786\" fill=\"none\" stroke=\"#000000\"/>\n<polygon fill=\"#000000\" points=\"217.0001,-803.784 213.5,-793.784 210.0001,-803.784 217.0001,-803.784\" stroke=\"#000000\"/>\n</g>\n<!-- 140421898165048 -->\n<g class=\"node\" id=\"node5\">\n<title>140421898165048</title>\n<polygon fill=\"none\" points=\"52,-664.5 52,-710.5 375,-710.5 375,-664.5 52,-664.5\" stroke=\"#000000\"/>\n<text fill=\"#000000\" font-family=\"Times,serif\" font-size=\"14.00\" text-anchor=\"middle\" x=\"122\" y=\"-683.8\">conv2d_36: Conv2D</text>\n<polyline fill=\"none\" points=\"192,-664.5 192,-710.5 \" stroke=\"#000000\"/>\n<text fill=\"#000000\" font-family=\"Times,serif\" font-size=\"14.00\" text-anchor=\"middle\" x=\"221\" y=\"-695.3\">input:</text>\n<polyline fill=\"none\" points=\"192,-687.5 250,-687.5 \" stroke=\"#000000\"/>\n<text fill=\"#000000\" font-family=\"Times,serif\" font-size=\"14.00\" text-anchor=\"middle\" x=\"221\" y=\"-672.3\">output:</text>\n<polyline fill=\"none\" points=\"250,-664.5 250,-710.5 \" stroke=\"#000000\"/>\n<text fill=\"#000000\" font-family=\"Times,serif\" font-size=\"14.00\" text-anchor=\"middle\" x=\"312.5\" y=\"-695.3\">(None, 32, 32, 32)</text>\n<polyline fill=\"none\" points=\"250,-687.5 375,-687.5 \" stroke=\"#000000\"/>\n<text fill=\"#000000\" font-family=\"Times,serif\" font-size=\"14.00\" text-anchor=\"middle\" x=\"312.5\" y=\"-672.3\">(None, 32, 32, 64)</text>\n</g>\n<!-- 140421871513328&#45;&gt;140421898165048 -->\n<g class=\"edge\" id=\"edge5\">\n<title>140421871513328-&gt;140421898165048</title>\n<path d=\"M213.5,-747.3799C213.5,-739.1745 213.5,-729.7679 213.5,-720.8786\" fill=\"none\" stroke=\"#000000\"/>\n<polygon fill=\"#000000\" points=\"217.0001,-720.784 213.5,-710.784 210.0001,-720.784 217.0001,-720.784\" stroke=\"#000000\"/>\n</g>\n<!-- 140421897118664 -->\n<g class=\"node\" id=\"node6\">\n<title>140421897118664</title>\n<polygon fill=\"none\" points=\"7.5,-581.5 7.5,-627.5 419.5,-627.5 419.5,-581.5 7.5,-581.5\" stroke=\"#000000\"/>\n<text fill=\"#000000\" font-family=\"Times,serif\" font-size=\"14.00\" text-anchor=\"middle\" x=\"122\" y=\"-600.8\">max_pooling2d_36: MaxPooling2D</text>\n<polyline fill=\"none\" points=\"236.5,-581.5 236.5,-627.5 \" stroke=\"#000000\"/>\n<text fill=\"#000000\" font-family=\"Times,serif\" font-size=\"14.00\" text-anchor=\"middle\" x=\"265.5\" y=\"-612.3\">input:</text>\n<polyline fill=\"none\" points=\"236.5,-604.5 294.5,-604.5 \" stroke=\"#000000\"/>\n<text fill=\"#000000\" font-family=\"Times,serif\" font-size=\"14.00\" text-anchor=\"middle\" x=\"265.5\" y=\"-589.3\">output:</text>\n<polyline fill=\"none\" points=\"294.5,-581.5 294.5,-627.5 \" stroke=\"#000000\"/>\n<text fill=\"#000000\" font-family=\"Times,serif\" font-size=\"14.00\" text-anchor=\"middle\" x=\"357\" y=\"-612.3\">(None, 32, 32, 64)</text>\n<polyline fill=\"none\" points=\"294.5,-604.5 419.5,-604.5 \" stroke=\"#000000\"/>\n<text fill=\"#000000\" font-family=\"Times,serif\" font-size=\"14.00\" text-anchor=\"middle\" x=\"357\" y=\"-589.3\">(None, 16, 16, 64)</text>\n</g>\n<!-- 140421898165048&#45;&gt;140421897118664 -->\n<g class=\"edge\" id=\"edge6\">\n<title>140421898165048-&gt;140421897118664</title>\n<path d=\"M213.5,-664.3799C213.5,-656.1745 213.5,-646.7679 213.5,-637.8786\" fill=\"none\" stroke=\"#000000\"/>\n<polygon fill=\"#000000\" points=\"217.0001,-637.784 213.5,-627.784 210.0001,-637.784 217.0001,-637.784\" stroke=\"#000000\"/>\n</g>\n<!-- 140421676108152 -->\n<g class=\"node\" id=\"node7\">\n<title>140421676108152</title>\n<polygon fill=\"none\" points=\"48.5,-498.5 48.5,-544.5 378.5,-544.5 378.5,-498.5 48.5,-498.5\" stroke=\"#000000\"/>\n<text fill=\"#000000\" font-family=\"Times,serif\" font-size=\"14.00\" text-anchor=\"middle\" x=\"118.5\" y=\"-517.8\">conv2d_37: Conv2D</text>\n<polyline fill=\"none\" points=\"188.5,-498.5 188.5,-544.5 \" stroke=\"#000000\"/>\n<text fill=\"#000000\" font-family=\"Times,serif\" font-size=\"14.00\" text-anchor=\"middle\" x=\"217.5\" y=\"-529.3\">input:</text>\n<polyline fill=\"none\" points=\"188.5,-521.5 246.5,-521.5 \" stroke=\"#000000\"/>\n<text fill=\"#000000\" font-family=\"Times,serif\" font-size=\"14.00\" text-anchor=\"middle\" x=\"217.5\" y=\"-506.3\">output:</text>\n<polyline fill=\"none\" points=\"246.5,-498.5 246.5,-544.5 \" stroke=\"#000000\"/>\n<text fill=\"#000000\" font-family=\"Times,serif\" font-size=\"14.00\" text-anchor=\"middle\" x=\"312.5\" y=\"-529.3\">(None, 16, 16, 64)</text>\n<polyline fill=\"none\" points=\"246.5,-521.5 378.5,-521.5 \" stroke=\"#000000\"/>\n<text fill=\"#000000\" font-family=\"Times,serif\" font-size=\"14.00\" text-anchor=\"middle\" x=\"312.5\" y=\"-506.3\">(None, 16, 16, 128)</text>\n</g>\n<!-- 140421897118664&#45;&gt;140421676108152 -->\n<g class=\"edge\" id=\"edge7\">\n<title>140421897118664-&gt;140421676108152</title>\n<path d=\"M213.5,-581.3799C213.5,-573.1745 213.5,-563.7679 213.5,-554.8786\" fill=\"none\" stroke=\"#000000\"/>\n<polygon fill=\"#000000\" points=\"217.0001,-554.784 213.5,-544.784 210.0001,-554.784 217.0001,-554.784\" stroke=\"#000000\"/>\n</g>\n<!-- 140421897557216 -->\n<g class=\"node\" id=\"node8\">\n<title>140421897557216</title>\n<polygon fill=\"none\" points=\"4,-415.5 4,-461.5 423,-461.5 423,-415.5 4,-415.5\" stroke=\"#000000\"/>\n<text fill=\"#000000\" font-family=\"Times,serif\" font-size=\"14.00\" text-anchor=\"middle\" x=\"118.5\" y=\"-434.8\">max_pooling2d_37: MaxPooling2D</text>\n<polyline fill=\"none\" points=\"233,-415.5 233,-461.5 \" stroke=\"#000000\"/>\n<text fill=\"#000000\" font-family=\"Times,serif\" font-size=\"14.00\" text-anchor=\"middle\" x=\"262\" y=\"-446.3\">input:</text>\n<polyline fill=\"none\" points=\"233,-438.5 291,-438.5 \" stroke=\"#000000\"/>\n<text fill=\"#000000\" font-family=\"Times,serif\" font-size=\"14.00\" text-anchor=\"middle\" x=\"262\" y=\"-423.3\">output:</text>\n<polyline fill=\"none\" points=\"291,-415.5 291,-461.5 \" stroke=\"#000000\"/>\n<text fill=\"#000000\" font-family=\"Times,serif\" font-size=\"14.00\" text-anchor=\"middle\" x=\"357\" y=\"-446.3\">(None, 16, 16, 128)</text>\n<polyline fill=\"none\" points=\"291,-438.5 423,-438.5 \" stroke=\"#000000\"/>\n<text fill=\"#000000\" font-family=\"Times,serif\" font-size=\"14.00\" text-anchor=\"middle\" x=\"357\" y=\"-423.3\">(None, 8, 8, 128)</text>\n</g>\n<!-- 140421676108152&#45;&gt;140421897557216 -->\n<g class=\"edge\" id=\"edge8\">\n<title>140421676108152-&gt;140421897557216</title>\n<path d=\"M213.5,-498.3799C213.5,-490.1745 213.5,-480.7679 213.5,-471.8786\" fill=\"none\" stroke=\"#000000\"/>\n<polygon fill=\"#000000\" points=\"217.0001,-471.784 213.5,-461.784 210.0001,-471.784 217.0001,-471.784\" stroke=\"#000000\"/>\n</g>\n<!-- 140421897673416 -->\n<g class=\"node\" id=\"node9\">\n<title>140421897673416</title>\n<polygon fill=\"none\" points=\"56,-332.5 56,-378.5 371,-378.5 371,-332.5 56,-332.5\" stroke=\"#000000\"/>\n<text fill=\"#000000\" font-family=\"Times,serif\" font-size=\"14.00\" text-anchor=\"middle\" x=\"126\" y=\"-351.8\">conv2d_38: Conv2D</text>\n<polyline fill=\"none\" points=\"196,-332.5 196,-378.5 \" stroke=\"#000000\"/>\n<text fill=\"#000000\" font-family=\"Times,serif\" font-size=\"14.00\" text-anchor=\"middle\" x=\"225\" y=\"-363.3\">input:</text>\n<polyline fill=\"none\" points=\"196,-355.5 254,-355.5 \" stroke=\"#000000\"/>\n<text fill=\"#000000\" font-family=\"Times,serif\" font-size=\"14.00\" text-anchor=\"middle\" x=\"225\" y=\"-340.3\">output:</text>\n<polyline fill=\"none\" points=\"254,-332.5 254,-378.5 \" stroke=\"#000000\"/>\n<text fill=\"#000000\" font-family=\"Times,serif\" font-size=\"14.00\" text-anchor=\"middle\" x=\"312.5\" y=\"-363.3\">(None, 8, 8, 128)</text>\n<polyline fill=\"none\" points=\"254,-355.5 371,-355.5 \" stroke=\"#000000\"/>\n<text fill=\"#000000\" font-family=\"Times,serif\" font-size=\"14.00\" text-anchor=\"middle\" x=\"312.5\" y=\"-340.3\">(None, 8, 8, 128)</text>\n</g>\n<!-- 140421897557216&#45;&gt;140421897673416 -->\n<g class=\"edge\" id=\"edge9\">\n<title>140421897557216-&gt;140421897673416</title>\n<path d=\"M213.5,-415.3799C213.5,-407.1745 213.5,-397.7679 213.5,-388.8786\" fill=\"none\" stroke=\"#000000\"/>\n<polygon fill=\"#000000\" points=\"217.0001,-388.784 213.5,-378.784 210.0001,-388.784 217.0001,-388.784\" stroke=\"#000000\"/>\n</g>\n<!-- 140421898012264 -->\n<g class=\"node\" id=\"node10\">\n<title>140421898012264</title>\n<polygon fill=\"none\" points=\"11.5,-249.5 11.5,-295.5 415.5,-295.5 415.5,-249.5 11.5,-249.5\" stroke=\"#000000\"/>\n<text fill=\"#000000\" font-family=\"Times,serif\" font-size=\"14.00\" text-anchor=\"middle\" x=\"126\" y=\"-268.8\">max_pooling2d_38: MaxPooling2D</text>\n<polyline fill=\"none\" points=\"240.5,-249.5 240.5,-295.5 \" stroke=\"#000000\"/>\n<text fill=\"#000000\" font-family=\"Times,serif\" font-size=\"14.00\" text-anchor=\"middle\" x=\"269.5\" y=\"-280.3\">input:</text>\n<polyline fill=\"none\" points=\"240.5,-272.5 298.5,-272.5 \" stroke=\"#000000\"/>\n<text fill=\"#000000\" font-family=\"Times,serif\" font-size=\"14.00\" text-anchor=\"middle\" x=\"269.5\" y=\"-257.3\">output:</text>\n<polyline fill=\"none\" points=\"298.5,-249.5 298.5,-295.5 \" stroke=\"#000000\"/>\n<text fill=\"#000000\" font-family=\"Times,serif\" font-size=\"14.00\" text-anchor=\"middle\" x=\"357\" y=\"-280.3\">(None, 8, 8, 128)</text>\n<polyline fill=\"none\" points=\"298.5,-272.5 415.5,-272.5 \" stroke=\"#000000\"/>\n<text fill=\"#000000\" font-family=\"Times,serif\" font-size=\"14.00\" text-anchor=\"middle\" x=\"357\" y=\"-257.3\">(None, 4, 4, 128)</text>\n</g>\n<!-- 140421897673416&#45;&gt;140421898012264 -->\n<g class=\"edge\" id=\"edge10\">\n<title>140421897673416-&gt;140421898012264</title>\n<path d=\"M213.5,-332.3799C213.5,-324.1745 213.5,-314.7679 213.5,-305.8786\" fill=\"none\" stroke=\"#000000\"/>\n<polygon fill=\"#000000\" points=\"217.0001,-305.784 213.5,-295.784 210.0001,-305.784 217.0001,-305.784\" stroke=\"#000000\"/>\n</g>\n<!-- 140421897559736 -->\n<g class=\"node\" id=\"node11\">\n<title>140421897559736</title>\n<polygon fill=\"none\" points=\"69.5,-166.5 69.5,-212.5 357.5,-212.5 357.5,-166.5 69.5,-166.5\" stroke=\"#000000\"/>\n<text fill=\"#000000\" font-family=\"Times,serif\" font-size=\"14.00\" text-anchor=\"middle\" x=\"126\" y=\"-185.8\">flatten_8: Flatten</text>\n<polyline fill=\"none\" points=\"182.5,-166.5 182.5,-212.5 \" stroke=\"#000000\"/>\n<text fill=\"#000000\" font-family=\"Times,serif\" font-size=\"14.00\" text-anchor=\"middle\" x=\"211.5\" y=\"-197.3\">input:</text>\n<polyline fill=\"none\" points=\"182.5,-189.5 240.5,-189.5 \" stroke=\"#000000\"/>\n<text fill=\"#000000\" font-family=\"Times,serif\" font-size=\"14.00\" text-anchor=\"middle\" x=\"211.5\" y=\"-174.3\">output:</text>\n<polyline fill=\"none\" points=\"240.5,-166.5 240.5,-212.5 \" stroke=\"#000000\"/>\n<text fill=\"#000000\" font-family=\"Times,serif\" font-size=\"14.00\" text-anchor=\"middle\" x=\"299\" y=\"-197.3\">(None, 4, 4, 128)</text>\n<polyline fill=\"none\" points=\"240.5,-189.5 357.5,-189.5 \" stroke=\"#000000\"/>\n<text fill=\"#000000\" font-family=\"Times,serif\" font-size=\"14.00\" text-anchor=\"middle\" x=\"299\" y=\"-174.3\">(None, 2048)</text>\n</g>\n<!-- 140421898012264&#45;&gt;140421897559736 -->\n<g class=\"edge\" id=\"edge11\">\n<title>140421898012264-&gt;140421897559736</title>\n<path d=\"M213.5,-249.3799C213.5,-241.1745 213.5,-231.7679 213.5,-222.8786\" fill=\"none\" stroke=\"#000000\"/>\n<polygon fill=\"#000000\" points=\"217.0001,-222.784 213.5,-212.784 210.0001,-222.784 217.0001,-222.784\" stroke=\"#000000\"/>\n</g>\n<!-- 140421898012096 -->\n<g class=\"node\" id=\"node12\">\n<title>140421898012096</title>\n<polygon fill=\"none\" points=\"80,-83.5 80,-129.5 347,-129.5 347,-83.5 80,-83.5\" stroke=\"#000000\"/>\n<text fill=\"#000000\" font-family=\"Times,serif\" font-size=\"14.00\" text-anchor=\"middle\" x=\"137\" y=\"-102.8\">dense_15: Dense</text>\n<polyline fill=\"none\" points=\"194,-83.5 194,-129.5 \" stroke=\"#000000\"/>\n<text fill=\"#000000\" font-family=\"Times,serif\" font-size=\"14.00\" text-anchor=\"middle\" x=\"223\" y=\"-114.3\">input:</text>\n<polyline fill=\"none\" points=\"194,-106.5 252,-106.5 \" stroke=\"#000000\"/>\n<text fill=\"#000000\" font-family=\"Times,serif\" font-size=\"14.00\" text-anchor=\"middle\" x=\"223\" y=\"-91.3\">output:</text>\n<polyline fill=\"none\" points=\"252,-83.5 252,-129.5 \" stroke=\"#000000\"/>\n<text fill=\"#000000\" font-family=\"Times,serif\" font-size=\"14.00\" text-anchor=\"middle\" x=\"299.5\" y=\"-114.3\">(None, 2048)</text>\n<polyline fill=\"none\" points=\"252,-106.5 347,-106.5 \" stroke=\"#000000\"/>\n<text fill=\"#000000\" font-family=\"Times,serif\" font-size=\"14.00\" text-anchor=\"middle\" x=\"299.5\" y=\"-91.3\">(None, 1024)</text>\n</g>\n<!-- 140421897559736&#45;&gt;140421898012096 -->\n<g class=\"edge\" id=\"edge12\">\n<title>140421897559736-&gt;140421898012096</title>\n<path d=\"M213.5,-166.3799C213.5,-158.1745 213.5,-148.7679 213.5,-139.8786\" fill=\"none\" stroke=\"#000000\"/>\n<polygon fill=\"#000000\" points=\"217.0001,-139.784 213.5,-129.784 210.0001,-139.784 217.0001,-139.784\" stroke=\"#000000\"/>\n</g>\n<!-- 140421811498848 -->\n<g class=\"node\" id=\"node13\">\n<title>140421811498848</title>\n<polygon fill=\"none\" points=\"80,-.5 80,-46.5 347,-46.5 347,-.5 80,-.5\" stroke=\"#000000\"/>\n<text fill=\"#000000\" font-family=\"Times,serif\" font-size=\"14.00\" text-anchor=\"middle\" x=\"137\" y=\"-19.8\">dense_16: Dense</text>\n<polyline fill=\"none\" points=\"194,-.5 194,-46.5 \" stroke=\"#000000\"/>\n<text fill=\"#000000\" font-family=\"Times,serif\" font-size=\"14.00\" text-anchor=\"middle\" x=\"223\" y=\"-31.3\">input:</text>\n<polyline fill=\"none\" points=\"194,-23.5 252,-23.5 \" stroke=\"#000000\"/>\n<text fill=\"#000000\" font-family=\"Times,serif\" font-size=\"14.00\" text-anchor=\"middle\" x=\"223\" y=\"-8.3\">output:</text>\n<polyline fill=\"none\" points=\"252,-.5 252,-46.5 \" stroke=\"#000000\"/>\n<text fill=\"#000000\" font-family=\"Times,serif\" font-size=\"14.00\" text-anchor=\"middle\" x=\"299.5\" y=\"-31.3\">(None, 1024)</text>\n<polyline fill=\"none\" points=\"252,-23.5 347,-23.5 \" stroke=\"#000000\"/>\n<text fill=\"#000000\" font-family=\"Times,serif\" font-size=\"14.00\" text-anchor=\"middle\" x=\"299.5\" y=\"-8.3\">(None, 1)</text>\n</g>\n<!-- 140421898012096&#45;&gt;140421811498848 -->\n<g class=\"edge\" id=\"edge13\">\n<title>140421898012096-&gt;140421811498848</title>\n<path d=\"M213.5,-83.3799C213.5,-75.1745 213.5,-65.7679 213.5,-56.8786\" fill=\"none\" stroke=\"#000000\"/>\n<polygon fill=\"#000000\" points=\"217.0001,-56.784 213.5,-46.784 210.0001,-56.784 217.0001,-56.784\" stroke=\"#000000\"/>\n</g>\n<!-- 140421830262064 -->\n<g class=\"node\" id=\"node14\">\n<title>140421830262064</title>\n<polygon fill=\"none\" points=\"149,-1079.5 149,-1115.5 278,-1115.5 278,-1079.5 149,-1079.5\" stroke=\"#000000\"/>\n<text fill=\"#000000\" font-family=\"Times,serif\" font-size=\"14.00\" text-anchor=\"middle\" x=\"213.5\" y=\"-1093.8\">140421830262064</text>\n</g>\n<!-- 140421830262064&#45;&gt;140421830313408 -->\n<g class=\"edge\" id=\"edge1\">\n<title>140421830262064-&gt;140421830313408</title>\n<path d=\"M213.5,-1079.4092C213.5,-1071.4308 213.5,-1061.795 213.5,-1052.606\" fill=\"none\" stroke=\"#000000\"/>\n<polygon fill=\"#000000\" points=\"217.0001,-1052.5333 213.5,-1042.5333 210.0001,-1052.5334 217.0001,-1052.5333\" stroke=\"#000000\"/>\n</g>\n</g>\n</svg>"
          },
          "metadata": {
            "tags": []
          },
          "execution_count": 63
        }
      ]
    },
    {
      "metadata": {
        "id": "N8phY8wxQ7TB",
        "colab_type": "code",
        "colab": {}
      },
      "cell_type": "code",
      "source": [
        "# 모델 학습과정 설정 \n",
        "model.compile(loss='binary_crossentropy', optimizer='adam', metrics=['accuracy'])\n",
        "\n",
        "# 조기종료함수 \n",
        "from keras.callbacks import EarlyStopping\n",
        "early_stopping = EarlyStopping(patience = 20) # 조기종료 콜백함수 정의"
      ],
      "execution_count": 0,
      "outputs": []
    },
    {
      "metadata": {
        "id": "WJGHeWopQ7ZP",
        "colab_type": "code",
        "outputId": "62c08be3-8440-40b0-8932-00fb4bb417ef",
        "colab": {
          "base_uri": "https://localhost:8080/",
          "height": 960
        }
      },
      "cell_type": "code",
      "source": [
        "# 모델 학습시키기 \n",
        "hist = model.fit_generator(\n",
        "        train_generator,\n",
        "        steps_per_epoch=20*5,  # train sample 1230, batch size 64\n",
        "        epochs=50,\n",
        "        validation_data=test_generator,\n",
        "        validation_steps=5, # test sample 292, batch size 64\n",
        "        callbacks=[early_stopping]\n",
        "        )  "
      ],
      "execution_count": 65,
      "outputs": [
        {
          "output_type": "stream",
          "text": [
            "Epoch 1/50\n",
            "100/100 [==============================] - 41s 415ms/step - loss: 0.6946 - acc: 0.5122 - val_loss: 0.6925 - val_acc: 0.5034\n",
            "Epoch 2/50\n",
            "100/100 [==============================] - 40s 403ms/step - loss: 0.6925 - acc: 0.5184 - val_loss: 0.6921 - val_acc: 0.5788\n",
            "Epoch 3/50\n",
            "100/100 [==============================] - 41s 409ms/step - loss: 0.6904 - acc: 0.5471 - val_loss: 0.6827 - val_acc: 0.5582\n",
            "Epoch 4/50\n",
            "100/100 [==============================] - 40s 402ms/step - loss: 0.6811 - acc: 0.5694 - val_loss: 0.7054 - val_acc: 0.5411\n",
            "Epoch 5/50\n",
            "100/100 [==============================] - 41s 406ms/step - loss: 0.6793 - acc: 0.5725 - val_loss: 0.7739 - val_acc: 0.4897\n",
            "Epoch 6/50\n",
            "100/100 [==============================] - 41s 408ms/step - loss: 0.6852 - acc: 0.5608 - val_loss: 0.6696 - val_acc: 0.5822\n",
            "Epoch 7/50\n",
            "100/100 [==============================] - 41s 414ms/step - loss: 0.6680 - acc: 0.5975 - val_loss: 0.6625 - val_acc: 0.6027\n",
            "Epoch 8/50\n",
            "100/100 [==============================] - 41s 412ms/step - loss: 0.6515 - acc: 0.6310 - val_loss: 0.6358 - val_acc: 0.6301\n",
            "Epoch 9/50\n",
            "100/100 [==============================] - 41s 409ms/step - loss: 0.6454 - acc: 0.6341 - val_loss: 0.6354 - val_acc: 0.6438\n",
            "Epoch 10/50\n",
            "100/100 [==============================] - 41s 411ms/step - loss: 0.6339 - acc: 0.6450 - val_loss: 0.6916 - val_acc: 0.6096\n",
            "Epoch 11/50\n",
            "100/100 [==============================] - 41s 413ms/step - loss: 0.6378 - acc: 0.6398 - val_loss: 0.6717 - val_acc: 0.5856\n",
            "Epoch 12/50\n",
            "100/100 [==============================] - 40s 405ms/step - loss: 0.6156 - acc: 0.6640 - val_loss: 0.6599 - val_acc: 0.6267\n",
            "Epoch 13/50\n",
            "100/100 [==============================] - 41s 406ms/step - loss: 0.6054 - acc: 0.6844 - val_loss: 0.6571 - val_acc: 0.5890\n",
            "Epoch 14/50\n",
            "100/100 [==============================] - 40s 405ms/step - loss: 0.6138 - acc: 0.6709 - val_loss: 0.6509 - val_acc: 0.6164\n",
            "Epoch 15/50\n",
            "100/100 [==============================] - 40s 404ms/step - loss: 0.5942 - acc: 0.6814 - val_loss: 0.6383 - val_acc: 0.6610\n",
            "Epoch 16/50\n",
            "100/100 [==============================] - 40s 404ms/step - loss: 0.5635 - acc: 0.7091 - val_loss: 0.6831 - val_acc: 0.6404\n",
            "Epoch 17/50\n",
            "100/100 [==============================] - 41s 406ms/step - loss: 0.5488 - acc: 0.7146 - val_loss: 0.6717 - val_acc: 0.6027\n",
            "Epoch 18/50\n",
            "100/100 [==============================] - 41s 408ms/step - loss: 0.5524 - acc: 0.7233 - val_loss: 0.6804 - val_acc: 0.5993\n",
            "Epoch 19/50\n",
            "100/100 [==============================] - 41s 411ms/step - loss: 0.5289 - acc: 0.7325 - val_loss: 0.6491 - val_acc: 0.6541\n",
            "Epoch 20/50\n",
            "100/100 [==============================] - 41s 408ms/step - loss: 0.5279 - acc: 0.7366 - val_loss: 0.7380 - val_acc: 0.6507\n",
            "Epoch 21/50\n",
            "100/100 [==============================] - 40s 403ms/step - loss: 0.4864 - acc: 0.7627 - val_loss: 0.7039 - val_acc: 0.6507\n",
            "Epoch 22/50\n",
            "100/100 [==============================] - 40s 402ms/step - loss: 0.4877 - acc: 0.7637 - val_loss: 0.6800 - val_acc: 0.6336\n",
            "Epoch 23/50\n",
            "100/100 [==============================] - 40s 402ms/step - loss: 0.4728 - acc: 0.7732 - val_loss: 0.6452 - val_acc: 0.6267\n",
            "Epoch 24/50\n",
            "100/100 [==============================] - 40s 402ms/step - loss: 0.4747 - acc: 0.7781 - val_loss: 0.7228 - val_acc: 0.5856\n",
            "Epoch 25/50\n",
            "100/100 [==============================] - 40s 402ms/step - loss: 0.4625 - acc: 0.7798 - val_loss: 0.7576 - val_acc: 0.6507\n",
            "Epoch 26/50\n",
            "100/100 [==============================] - 41s 411ms/step - loss: 0.4416 - acc: 0.7897 - val_loss: 0.6911 - val_acc: 0.6575\n",
            "Epoch 27/50\n",
            "100/100 [==============================] - 40s 403ms/step - loss: 0.4206 - acc: 0.8095 - val_loss: 0.7720 - val_acc: 0.5959\n",
            "Epoch 28/50\n",
            "100/100 [==============================] - 41s 405ms/step - loss: 0.4195 - acc: 0.8101 - val_loss: 0.6990 - val_acc: 0.6438\n",
            "Epoch 29/50\n",
            "100/100 [==============================] - 40s 402ms/step - loss: 0.3969 - acc: 0.8159 - val_loss: 0.8899 - val_acc: 0.6096\n"
          ],
          "name": "stdout"
        }
      ]
    },
    {
      "metadata": {
        "id": "cz4u1nJ8q10Z",
        "colab_type": "code",
        "outputId": "fe5a853d-3684-4a2a-e688-e1fb9ca716a4",
        "colab": {
          "base_uri": "https://localhost:8080/",
          "height": 280
        }
      },
      "cell_type": "code",
      "source": [
        "# 모델 학습 과정 표시하기 \n",
        "%matplotlib inline\n",
        "import matplotlib.pyplot as plt\n",
        "\n",
        "fig, loss_ax = plt.subplots()\n",
        "\n",
        "acc_ax = loss_ax.twinx()\n",
        "\n",
        "loss_ax.plot(hist.history['loss'], 'y', label='train loss')\n",
        "loss_ax.plot(hist.history['val_loss'], 'r', label='val loss')\n",
        "\n",
        "acc_ax.plot(hist.history['acc'], 'b', label='train acc')\n",
        "acc_ax.plot(hist.history['val_acc'], 'g', label='val acc')\n",
        "\n",
        "loss_ax.set_xlabel('epoch')\n",
        "loss_ax.set_ylabel('loss')\n",
        "acc_ax.set_ylabel('accuray')\n",
        "\n",
        "loss_ax.legend(loc='upper left')\n",
        "acc_ax.legend(loc='lower left')\n",
        "\n",
        "plt.show()"
      ],
      "execution_count": 66,
      "outputs": [
        {
          "output_type": "display_data",
          "data": {
            "image/png": "[encoded data removed]",
            "text/plain": [
              "<matplotlib.figure.Figure at 0x7fb681482550>"
            ]
          },
          "metadata": {
            "tags": []
          }
        }
      ]
    },
    {
      "metadata": {
        "id": "R1hv4UXivp4v",
        "colab_type": "code",
        "outputId": "fc276679-45ff-4cad-9de4-f2f9dd3ed995",
        "colab": {
          "base_uri": "https://localhost:8080/",
          "height": 50
        }
      },
      "cell_type": "code",
      "source": [
        "# 모델 평가하기 \n",
        "print(\"-- Evaluate --\")\n",
        "scores = model.evaluate_generator(test_generator, steps=5)\n",
        "print(\"%s: %.2f%%\" %(model.metrics_names[1], scores[1]*100))"
      ],
      "execution_count": 78,
      "outputs": [
        {
          "output_type": "stream",
          "text": [
            "-- Evaluate --\n",
            "acc: 62.67%\n"
          ],
          "name": "stdout"
        }
      ]
    },
    {
      "metadata": {
        "id": "-vL9C_f6WqaB",
        "colab_type": "code",
        "outputId": "89d3ca5a-95b0-4547-a674-758979353dca",
        "colab": {
          "base_uri": "https://localhost:8080/",
          "height": 280
        }
      },
      "cell_type": "code",
      "source": [
        "# 모델 학습 과정 표시하기 (epochs=100)\n",
        "%matplotlib inline\n",
        "import matplotlib.pyplot as plt\n",
        "\n",
        "fig, loss_ax = plt.subplots()\n",
        "\n",
        "acc_ax = loss_ax.twinx()\n",
        "\n",
        "loss_ax.plot(hist.history['loss'], 'y', label='train loss')\n",
        "loss_ax.plot(hist.history['val_loss'], 'r', label='val loss')\n",
        "\n",
        "acc_ax.plot(hist.history['acc'], 'b', label='train acc')\n",
        "acc_ax.plot(hist.history['val_acc'], 'g', label='val acc')\n",
        "\n",
        "loss_ax.set_xlabel('epoch')\n",
        "loss_ax.set_ylabel('loss')\n",
        "acc_ax.set_ylabel('accuray')\n",
        "\n",
        "loss_ax.legend(loc='upper left')\n",
        "acc_ax.legend(loc='lower left')\n",
        "\n",
        "plt.show()"
      ],
      "execution_count": 39,
      "outputs": [
        {
          "output_type": "display_data",
          "data": {
            "image/png": "[encoded data removed]",
            "text/plain": [
              "<matplotlib.figure.Figure at 0x7fb675049d68>"
            ]
          },
          "metadata": {
            "tags": []
          }
        }
      ]
    },
    {
      "metadata": {
        "id": "GDsJqH_7T0vb",
        "colab_type": "code",
        "outputId": "6df5bcad-6b2d-45a5-a5d6-3de23f33150b",
        "colab": {
          "base_uri": "https://localhost:8080/",
          "height": 50
        }
      },
      "cell_type": "code",
      "source": [
        "# 모델 평가하기 (epochs=100)\n",
        "print(\"-- Evaluate --\")\n",
        "scores = model.evaluate_generator(test_generator, steps=5)\n",
        "print(\"%s: %.2f%%\" %(model.metrics_names[1], scores[1]*100))"
      ],
      "execution_count": 58,
      "outputs": [
        {
          "output_type": "stream",
          "text": [
            "-- Evaluate --\n",
            "acc: 67.81%\n"
          ],
          "name": "stdout"
        }
      ]
    },
    {
      "metadata": {
        "id": "jgr3JiXBWHXG",
        "colab_type": "code",
        "outputId": "339af63c-ee9d-477b-e954-ec46cc1bc84b",
        "colab": {
          "base_uri": "https://localhost:8080/",
          "height": 4795
        }
      },
      "cell_type": "code",
      "source": [
        "# 모델 사용하기 \n",
        "print(\"-- Predict --\")\n",
        "output = model.predict_generator(test_generator, steps=5)\n",
        "np.set_printoptions(formatter={'float': lambda x: \"{0:0.3f}\".format(x)})\n",
        "print(test_generator.class_indices)\n",
        "print(output)"
      ],
      "execution_count": 48,
      "outputs": [
        {
          "output_type": "stream",
          "text": [
            "-- Predict --\n",
            "{'0': 0, '1': 1}\n",
            "[[0.036]\n",
            " [0.605]\n",
            " [0.215]\n",
            " [0.781]\n",
            " [0.017]\n",
            " [1.000]\n",
            " [0.000]\n",
            " [0.777]\n",
            " [0.064]\n",
            " [0.096]\n",
            " [0.516]\n",
            " [0.491]\n",
            " [0.240]\n",
            " [0.387]\n",
            " [0.302]\n",
            " [0.220]\n",
            " [0.291]\n",
            " [0.481]\n",
            " [0.846]\n",
            " [0.681]\n",
            " [0.025]\n",
            " [0.005]\n",
            " [0.195]\n",
            " [0.127]\n",
            " [0.695]\n",
            " [0.992]\n",
            " [0.035]\n",
            " [0.983]\n",
            " [0.047]\n",
            " [0.055]\n",
            " [0.400]\n",
            " [0.413]\n",
            " [0.775]\n",
            " [0.119]\n",
            " [0.874]\n",
            " [0.000]\n",
            " [0.018]\n",
            " [0.980]\n",
            " [0.001]\n",
            " [0.988]\n",
            " [0.946]\n",
            " [0.042]\n",
            " [0.137]\n",
            " [0.007]\n",
            " [0.292]\n",
            " [0.592]\n",
            " [0.067]\n",
            " [0.377]\n",
            " [1.000]\n",
            " [0.260]\n",
            " [0.371]\n",
            " [0.127]\n",
            " [0.494]\n",
            " [0.925]\n",
            " [0.809]\n",
            " [0.148]\n",
            " [0.008]\n",
            " [0.700]\n",
            " [0.176]\n",
            " [0.044]\n",
            " [0.562]\n",
            " [0.152]\n",
            " [0.621]\n",
            " [0.000]\n",
            " [0.564]\n",
            " [0.992]\n",
            " [0.981]\n",
            " [0.761]\n",
            " [0.796]\n",
            " [0.869]\n",
            " [0.634]\n",
            " [0.001]\n",
            " [0.223]\n",
            " [0.091]\n",
            " [0.493]\n",
            " [0.543]\n",
            " [0.031]\n",
            " [0.108]\n",
            " [0.803]\n",
            " [0.987]\n",
            " [0.870]\n",
            " [0.881]\n",
            " [0.000]\n",
            " [1.000]\n",
            " [0.854]\n",
            " [0.977]\n",
            " [0.048]\n",
            " [0.877]\n",
            " [0.089]\n",
            " [0.244]\n",
            " [0.006]\n",
            " [0.593]\n",
            " [0.021]\n",
            " [0.003]\n",
            " [0.174]\n",
            " [0.450]\n",
            " [0.951]\n",
            " [0.899]\n",
            " [0.780]\n",
            " [0.957]\n",
            " [0.197]\n",
            " [0.169]\n",
            " [0.665]\n",
            " [0.554]\n",
            " [0.043]\n",
            " [0.110]\n",
            " [0.638]\n",
            " [0.000]\n",
            " [0.128]\n",
            " [0.993]\n",
            " [0.938]\n",
            " [0.025]\n",
            " [0.003]\n",
            " [0.036]\n",
            " [0.012]\n",
            " [0.206]\n",
            " [0.970]\n",
            " [0.010]\n",
            " [0.999]\n",
            " [0.258]\n",
            " [0.043]\n",
            " [0.018]\n",
            " [0.201]\n",
            " [0.012]\n",
            " [0.977]\n",
            " [0.075]\n",
            " [0.646]\n",
            " [0.933]\n",
            " [0.978]\n",
            " [0.006]\n",
            " [0.307]\n",
            " [0.027]\n",
            " [0.998]\n",
            " [0.222]\n",
            " [0.193]\n",
            " [0.044]\n",
            " [0.225]\n",
            " [0.774]\n",
            " [0.413]\n",
            " [0.109]\n",
            " [0.006]\n",
            " [0.506]\n",
            " [0.343]\n",
            " [0.620]\n",
            " [0.346]\n",
            " [0.997]\n",
            " [0.360]\n",
            " [0.441]\n",
            " [0.891]\n",
            " [0.139]\n",
            " [0.416]\n",
            " [0.054]\n",
            " [0.999]\n",
            " [0.005]\n",
            " [0.160]\n",
            " [0.946]\n",
            " [0.079]\n",
            " [0.866]\n",
            " [0.418]\n",
            " [1.000]\n",
            " [0.042]\n",
            " [0.989]\n",
            " [0.589]\n",
            " [0.550]\n",
            " [0.071]\n",
            " [0.284]\n",
            " [0.949]\n",
            " [0.045]\n",
            " [0.000]\n",
            " [0.960]\n",
            " [0.607]\n",
            " [0.363]\n",
            " [0.767]\n",
            " [0.001]\n",
            " [0.719]\n",
            " [0.433]\n",
            " [0.498]\n",
            " [0.096]\n",
            " [0.006]\n",
            " [0.997]\n",
            " [0.129]\n",
            " [0.993]\n",
            " [0.060]\n",
            " [0.015]\n",
            " [0.693]\n",
            " [0.019]\n",
            " [0.990]\n",
            " [0.073]\n",
            " [0.037]\n",
            " [0.526]\n",
            " [0.996]\n",
            " [0.483]\n",
            " [0.003]\n",
            " [0.416]\n",
            " [0.981]\n",
            " [0.307]\n",
            " [0.112]\n",
            " [0.194]\n",
            " [0.010]\n",
            " [0.862]\n",
            " [0.136]\n",
            " [0.507]\n",
            " [0.264]\n",
            " [0.104]\n",
            " [0.712]\n",
            " [0.192]\n",
            " [0.826]\n",
            " [0.341]\n",
            " [0.002]\n",
            " [0.042]\n",
            " [0.103]\n",
            " [0.922]\n",
            " [0.050]\n",
            " [0.048]\n",
            " [0.733]\n",
            " [0.993]\n",
            " [0.688]\n",
            " [0.435]\n",
            " [0.584]\n",
            " [0.386]\n",
            " [0.155]\n",
            " [0.839]\n",
            " [0.546]\n",
            " [0.713]\n",
            " [0.030]\n",
            " [0.215]\n",
            " [0.815]\n",
            " [0.187]\n",
            " [0.307]\n",
            " [0.001]\n",
            " [0.302]\n",
            " [0.993]\n",
            " [0.951]\n",
            " [0.155]\n",
            " [0.104]\n",
            " [0.255]\n",
            " [0.000]\n",
            " [0.060]\n",
            " [0.433]\n",
            " [0.337]\n",
            " [0.371]\n",
            " [0.103]\n",
            " [0.048]\n",
            " [0.733]\n",
            " [0.018]\n",
            " [0.048]\n",
            " [0.998]\n",
            " [0.869]\n",
            " [0.761]\n",
            " [0.260]\n",
            " [0.980]\n",
            " [0.091]\n",
            " [0.854]\n",
            " [0.194]\n",
            " [0.493]\n",
            " [0.933]\n",
            " [0.605]\n",
            " [0.796]\n",
            " [0.079]\n",
            " [0.000]\n",
            " [0.042]\n",
            " [0.620]\n",
            " [0.638]\n",
            " [0.174]\n",
            " [0.073]\n",
            " [0.044]\n",
            " [0.767]\n",
            " [0.054]\n",
            " [0.719]\n",
            " [0.977]\n",
            " [0.055]\n",
            " [0.284]\n",
            " [0.012]\n",
            " [0.025]\n",
            " [0.159]\n",
            " [0.438]\n",
            " [0.048]\n",
            " [0.856]\n",
            " [0.048]\n",
            " [0.881]\n",
            " [0.018]\n",
            " [0.258]\n",
            " [0.999]\n",
            " [0.119]\n",
            " [0.048]\n",
            " [0.026]\n",
            " [0.695]\n",
            " [0.128]\n",
            " [0.215]\n",
            " [0.925]\n",
            " [0.127]\n",
            " [0.450]]\n"
          ],
          "name": "stdout"
        }
      ]
    },
    {
      "metadata": {
        "id": "ssjHwbkBV9hl",
        "colab_type": "code",
        "colab": {}
      },
      "cell_type": "code",
      "source": [
        ""
      ],
      "execution_count": 0,
      "outputs": []
    }
  ]
}